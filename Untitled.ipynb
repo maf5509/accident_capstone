{
 "cells": [
  {
   "cell_type": "markdown",
   "metadata": {},
   "source": [
    "# FARS Road Accident Capstone Project\n",
    "April 2018\n",
    "by Mark Ferguson\n",
    "\n",
    "The aim of this project is to analyze road safety in the U.S. This will be done using a dataset containing fatal road accidents obtained from the National Hightway Traffic Safety Administration (nhtsa.gov).\n",
    "\n",
    "### Available Data\n",
    "\n",
    "The data examined are from the NHTSA's road fatality database, the Fatality Analysis Reporting System (FARS). This study concentrates on 2016 data, although there were datasets in the FARS repository going back as far as 1975. The repository can be found at ftp://ftp.nhtsa.dot.gov/fars/ \n",
    "\n",
    "The columns in the dataset are mostly coded; some of the columns' meanings could be deduced intuitively, whereas others had to be looked up. For this, it was necessary to consult the NHTSA's manual, which is located at ftp://ftp.nhtsa.dot.gov/fars/FARS-DOC/Analytical%20User%20Guide/FARS%20Analytical%20Users%20Manual%201975-2016-822447.pdf\n",
    "\n",
    "### What Can We Determine from the Data?\n",
    "\n",
    "From an examination of the data, it was decided that a number of questions could be addressed. These are:\n",
    "\n",
    "1. In which states are fatal road accidents most and least likely to occur?\n",
    "2. What is the correlation between alcohol (more specifically, drunk driving) and fatal accidents?\n",
    "3. What is the distribution of fatal accidents across the week?\n",
    "4. At what times of the day are fatal accidents more or less likely to occur?\n"
   ]
  },
  {
   "cell_type": "code",
   "execution_count": 46,
   "metadata": {
    "collapsed": true
   },
   "outputs": [],
   "source": [
    "import pandas as pd\n",
    "import numpy as np\n",
    "import matplotlib.pyplot as plt\n",
    "import math\n",
    "import seaborn as sns\n",
    "\n",
    "plt.rcParams['figure.figsize'] = (20.0, 10.0)"
   ]
  },
  {
   "cell_type": "code",
   "execution_count": 47,
   "metadata": {
    "collapsed": true
   },
   "outputs": [],
   "source": [
    "table = pd.read_csv(\"C://Users//fergu//accident.csv\")"
   ]
  },
  {
   "cell_type": "code",
   "execution_count": 48,
   "metadata": {
    "collapsed": true
   },
   "outputs": [],
   "source": [
    "states_proper = pd.read_csv('C://Users//fergu//States_Proper.csv')\n",
    "states_proper.columns = ['NUM', 'NAM', 'COD']"
   ]
  },
  {
   "cell_type": "code",
   "execution_count": 49,
   "metadata": {},
   "outputs": [
    {
     "name": "stdout",
     "output_type": "stream",
     "text": [
      "   NUM         NAM COD\n",
      "0    2      Alaska  AK\n",
      "1    4     Arizona  AZ\n",
      "2    5    Arkansas  AR\n",
      "3    6  California  CA\n",
      "4    8    Colorado  CO\n"
     ]
    }
   ],
   "source": [
    "print(states_proper.head())"
   ]
  },
  {
   "cell_type": "code",
   "execution_count": 50,
   "metadata": {},
   "outputs": [
    {
     "name": "stdout",
     "output_type": "stream",
     "text": [
      "   STATE  ST_CASE  VE_TOTAL  VE_FORMS  PVH_INVL  PEDS  PERNOTMVIT  PERMVIT  \\\n",
      "0      1    10001         1         1         0     0           0        1   \n",
      "1      1    10002         1         1         0     0           0        2   \n",
      "2      1    10003         2         1         1     0           1        1   \n",
      "3      1    10004         1         1         0     0           0        1   \n",
      "4      1    10005         1         1         0     0           0        1   \n",
      "\n",
      "   PERSONS  COUNTY    ...     ARR_MIN  HOSP_HR  HOSP_MN  CF1  CF2  CF3  \\\n",
      "0        1      73    ...          36       88       88    0    0    0   \n",
      "1        2      73    ...           5       99       99    0    0    0   \n",
      "2        2      73    ...          31       88       88    0    0    0   \n",
      "3        1      73    ...          57       99       99    0    0    0   \n",
      "4        1      73    ...          10       88       88    0    0    0   \n",
      "\n",
      "   FATALS  DRUNK_DR  NAME_FIN  CODE_FIN  \n",
      "0       1         1         0         0  \n",
      "1       1         1         0         0  \n",
      "2       1         0         0         0  \n",
      "3       1         1         0         0  \n",
      "4       1         0         0         0  \n",
      "\n",
      "[5 rows x 54 columns]\n"
     ]
    }
   ],
   "source": [
    "table['NAME_FIN'] = 0\n",
    "table['CODE_FIN'] = 0\n",
    "print(table.head())"
   ]
  },
  {
   "cell_type": "code",
   "execution_count": 51,
   "metadata": {
    "scrolled": true
   },
   "outputs": [
    {
     "name": "stdout",
     "output_type": "stream",
     "text": [
      "   STATE  ST_CASE  VE_TOTAL  VE_FORMS  PVH_INVL  PEDS  PERNOTMVIT  PERMVIT  \\\n",
      "0      1    10001         1         1         0     0           0        1   \n",
      "1      1    10002         1         1         0     0           0        2   \n",
      "2      1    10003         2         1         1     0           1        1   \n",
      "3      1    10004         1         1         0     0           0        1   \n",
      "4      1    10005         1         1         0     0           0        1   \n",
      "\n",
      "   PERSONS  COUNTY    ...     ARR_MIN  HOSP_HR  HOSP_MN  CF1  CF2  CF3  \\\n",
      "0        1      73    ...          36       88       88    0    0    0   \n",
      "1        2      73    ...           5       99       99    0    0    0   \n",
      "2        2      73    ...          31       88       88    0    0    0   \n",
      "3        1      73    ...          57       99       99    0    0    0   \n",
      "4        1      73    ...          10       88       88    0    0    0   \n",
      "\n",
      "   FATALS  DRUNK_DR  NAME_FIN  CODE_FIN  \n",
      "0       1         1         0         0  \n",
      "1       1         1         0         0  \n",
      "2       1         0         0         0  \n",
      "3       1         1         0         0  \n",
      "4       1         0         0         0  \n",
      "\n",
      "[5 rows x 54 columns]\n"
     ]
    }
   ],
   "source": [
    "print(table.head())"
   ]
  },
  {
   "cell_type": "code",
   "execution_count": 52,
   "metadata": {
    "collapsed": true
   },
   "outputs": [],
   "source": [
    "state_counts = table['STATE'].value_counts()"
   ]
  },
  {
   "cell_type": "code",
   "execution_count": 53,
   "metadata": {
    "collapsed": true
   },
   "outputs": [],
   "source": [
    "states = list(table['STATE']) "
   ]
  },
  {
   "cell_type": "code",
   "execution_count": 54,
   "metadata": {
    "scrolled": true
   },
   "outputs": [
    {
     "name": "stdout",
     "output_type": "stream",
     "text": [
      "[ 1  2  4  5  6  8  9 10 11 12 13 15 16 17 18 19 20 21 22 23 24 25 26 27 28\n",
      " 29 30 31 32 33 34 35 36 37 38 39 40 41 42 44 45 46 47 48 49 50 51 53 54 55\n",
      " 56]\n"
     ]
    }
   ],
   "source": [
    "states_final = np.unique(states)\n",
    "print(states_final)"
   ]
  },
  {
   "cell_type": "code",
   "execution_count": 55,
   "metadata": {},
   "outputs": [
    {
     "name": "stdout",
     "output_type": "stream",
     "text": [
      "{1: 0, 2: 0, 4: 0, 5: 0, 6: 0, 8: 0, 9: 0, 10: 0, 11: 0, 12: 0, 13: 0, 15: 0, 16: 0, 17: 0, 18: 0, 19: 0, 20: 0, 21: 0, 22: 0, 23: 0, 24: 0, 25: 0, 26: 0, 27: 0, 28: 0, 29: 0, 30: 0, 31: 0, 32: 0, 33: 0, 34: 0, 35: 0, 36: 0, 37: 0, 38: 0, 39: 0, 40: 0, 41: 0, 42: 0, 44: 0, 45: 0, 46: 0, 47: 0, 48: 0, 49: 0, 50: 0, 51: 0, 53: 0, 54: 0, 55: 0, 56: 0}\n"
     ]
    }
   ],
   "source": [
    "states_dict = {}\n",
    "for item in states_final:\n",
    "     states_dict[item] = 0\n",
    "print(states_dict)"
   ]
  },
  {
   "cell_type": "code",
   "execution_count": 56,
   "metadata": {
    "collapsed": true
   },
   "outputs": [],
   "source": [
    "states = pd.read_csv('C://Users//fergu//States.csv', na_values = 'NaN')"
   ]
  },
  {
   "cell_type": "code",
   "execution_count": 57,
   "metadata": {
    "collapsed": true
   },
   "outputs": [],
   "source": [
    "states.columns = ['code', 'state', 'wildcard']"
   ]
  },
  {
   "cell_type": "code",
   "execution_count": 58,
   "metadata": {},
   "outputs": [
    {
     "name": "stdout",
     "output_type": "stream",
     "text": [
      "   code       state wildcard\n",
      "0     1     Alabama      NaN\n",
      "1     2      Alaska      NaN\n",
      "2     4     Arizona      NaN\n",
      "3     5    Arkansas      NaN\n",
      "4     6  California      NaN\n"
     ]
    }
   ],
   "source": [
    "print(states.head())"
   ]
  },
  {
   "cell_type": "code",
   "execution_count": 59,
   "metadata": {},
   "outputs": [
    {
     "name": "stderr",
     "output_type": "stream",
     "text": [
      "C:\\Users\\fergu\\Anaconda3\\lib\\site-packages\\ipykernel_launcher.py:3: SettingWithCopyWarning: \n",
      "A value is trying to be set on a copy of a slice from a DataFrame\n",
      "\n",
      "See the caveats in the documentation: http://pandas.pydata.org/pandas-docs/stable/indexing.html#indexing-view-versus-copy\n",
      "  This is separate from the ipykernel package so we can avoid doing imports until\n"
     ]
    }
   ],
   "source": [
    "# Add the second word of state names to the first column, e.g. 'Rhode' becomes 'Rhode Island'\n",
    "\n",
    "for i in range(0, len(states.wildcard) - 1):        \n",
    "       if type(states.wildcard[i]) != float:\n",
    "           states.state[i] += ' ' + str(states.wildcard[i])        "
   ]
  },
  {
   "cell_type": "code",
   "execution_count": 60,
   "metadata": {},
   "outputs": [
    {
     "name": "stdout",
     "output_type": "stream",
     "text": [
      "    code           state   wildcard\n",
      "0      1         Alabama        NaN\n",
      "1      2          Alaska        NaN\n",
      "2      4         Arizona        NaN\n",
      "3      5        Arkansas        NaN\n",
      "4      6      California        NaN\n",
      "5      8        Colorado        NaN\n",
      "6      9     Connecticut        NaN\n",
      "7     10        Delaware        NaN\n",
      "8     11              DC        NaN\n",
      "9     12         Florida        NaN\n",
      "10    13         Georgia        NaN\n",
      "11    15          Hawaii        NaN\n",
      "12    16           Idaho        NaN\n",
      "13    17        Illinois        NaN\n",
      "14    18         Indiana        NaN\n",
      "15    19            Iowa        NaN\n",
      "16    20          Kansas        NaN\n",
      "17    21        Kentucky        NaN\n",
      "18    22       Louisiana        NaN\n",
      "19    23           Maine        NaN\n",
      "20    24        Maryland        NaN\n",
      "21    25   Massachusetts        NaN\n",
      "22    26        Michigan        NaN\n",
      "23    27       Minnesota        NaN\n",
      "24    28     Mississippi        NaN\n",
      "25    29        Missouri        NaN\n",
      "26    30         Montana        NaN\n",
      "27    31        Nebraska        NaN\n",
      "28    32          Nevada        NaN\n",
      "29    33   New Hampshire  Hampshire\n",
      "30    34      New Jersey     Jersey\n",
      "31    35      New Mexico     Mexico\n",
      "32    36        New York       York\n",
      "33    37  North Carolina   Carolina\n",
      "34    38    North Dakota     Dakota\n",
      "35    39            Ohio        NaN\n",
      "36    40        Oklahoma        NaN\n",
      "37    41          Oregon        NaN\n",
      "38    42    Pennsylvania        NaN\n",
      "39    43     Puerto Rico       Rico\n",
      "40    44    Rhode Island     Island\n",
      "41    45  South Carolina   Carolina\n",
      "42    46    South Dakota     Dakota\n",
      "43    47       Tennessee        NaN\n",
      "44    48           Texas        NaN\n",
      "45    49            Utah        NaN\n",
      "46    50         Vermont        NaN\n",
      "47    52  Virgin Islands    Islands\n",
      "48    51        Virginia        NaN\n",
      "49    53      Washington        NaN\n",
      "50    54   West Virginia   Virginia\n",
      "51    55       Wisconsin        NaN\n",
      "52    56         Wyoming        NaN\n"
     ]
    }
   ],
   "source": [
    "print(states)"
   ]
  },
  {
   "cell_type": "code",
   "execution_count": 61,
   "metadata": {},
   "outputs": [
    {
     "name": "stdout",
     "output_type": "stream",
     "text": [
      "{1: 0, 2: 0, 4: 0, 5: 0, 6: 0, 8: 0, 9: 0, 10: 0, 11: 0, 12: 0, 13: 0, 15: 0, 16: 0, 17: 0, 18: 0, 19: 0, 20: 0, 21: 0, 22: 0, 23: 0, 24: 0, 25: 0, 26: 0, 27: 0, 28: 0, 29: 0, 30: 0, 31: 0, 32: 0, 33: 0, 34: 0, 35: 0, 36: 0, 37: 0, 38: 0, 39: 0, 40: 0, 41: 0, 42: 0, 44: 0, 45: 0, 46: 0, 47: 0, 48: 0, 49: 0, 50: 0, 51: 0, 53: 0, 54: 0, 55: 0, 56: 0}\n"
     ]
    }
   ],
   "source": [
    "print(states_dict)"
   ]
  },
  {
   "cell_type": "code",
   "execution_count": 62,
   "metadata": {},
   "outputs": [
    {
     "name": "stdout",
     "output_type": "stream",
     "text": [
      "{1: 'Alabama', 2: 'Alaska', 4: 'Arizona', 5: 'Arkansas', 6: 'California', 8: 'Colorado', 9: 'Connecticut', 10: 'Delaware', 11: 'DC', 12: 'Florida', 13: 'Georgia', 15: 'Hawaii', 16: 'Idaho', 17: 'Illinois', 18: 'Indiana', 19: 'Iowa', 20: 'Kansas', 21: 'Kentucky', 22: 'Louisiana', 23: 'Maine', 24: 'Maryland', 25: 'Massachusetts', 26: 'Michigan', 27: 'Minnesota', 28: 'Mississippi', 29: 'Missouri', 30: 'Montana', 31: 'Nebraska', 32: 'Nevada', 33: 'New Hampshire', 34: 'New Jersey', 35: 'New Mexico', 36: 'New York', 37: 'North Carolina', 38: 'North Dakota', 39: 'Ohio', 40: 'Oklahoma', 41: 'Oregon', 42: 'Pennsylvania', 44: 'Rhode Island', 45: 'South Carolina', 46: 'South Dakota', 47: 'Tennessee', 48: 'Texas', 49: 'Utah', 50: 'Vermont', 51: 'Virginia', 53: 'Washington', 54: 'West Virginia', 55: 'Wisconsin', 56: 'Wyoming'}\n",
      "53\n"
     ]
    }
   ],
   "source": [
    "# Create dictionary with keys corresponding to the numbered codes in the original import file \n",
    "\n",
    "for key in states_dict:\n",
    "    for i in range(0, len(states.code)):\n",
    "        if key == states['code'][i]:\n",
    "            states_dict[key] = states['state'][i]\n",
    "            break\n",
    "print(states_dict)\n",
    "print(len(states.code))"
   ]
  },
  {
   "cell_type": "code",
   "execution_count": 63,
   "metadata": {},
   "outputs": [
    {
     "name": "stdout",
     "output_type": "stream",
     "text": [
      "   STATE  ST_CASE  VE_TOTAL  VE_FORMS  PVH_INVL  PEDS  PERNOTMVIT  PERMVIT  \\\n",
      "0      1    10001         1         1         0     0           0        1   \n",
      "1      1    10002         1         1         0     0           0        2   \n",
      "2      1    10003         2         1         1     0           1        1   \n",
      "3      1    10004         1         1         0     0           0        1   \n",
      "4      1    10005         1         1         0     0           0        1   \n",
      "\n",
      "   PERSONS  COUNTY   ...     HOSP_HR  HOSP_MN  CF1  CF2  CF3  FATALS  \\\n",
      "0        1      73   ...          88       88    0    0    0       1   \n",
      "1        2      73   ...          99       99    0    0    0       1   \n",
      "2        2      73   ...          88       88    0    0    0       1   \n",
      "3        1      73   ...          99       99    0    0    0       1   \n",
      "4        1      73   ...          88       88    0    0    0       1   \n",
      "\n",
      "   DRUNK_DR  NAME_FIN  CODE_FIN  ST_NAME  \n",
      "0         1         0         0           \n",
      "1         1         0         0           \n",
      "2         0         0         0           \n",
      "3         1         0         0           \n",
      "4         0         0         0           \n",
      "\n",
      "[5 rows x 55 columns]\n"
     ]
    }
   ],
   "source": [
    "table['ST_NAME'] = ''\n",
    "print(table.head())"
   ]
  },
  {
   "cell_type": "code",
   "execution_count": 64,
   "metadata": {},
   "outputs": [
    {
     "name": "stdout",
     "output_type": "stream",
     "text": [
      "   STATE  ST_CASE  VE_TOTAL  VE_FORMS  PVH_INVL  PEDS  PERNOTMVIT  PERMVIT  \\\n",
      "0      1    10001         1         1         0     0           0        1   \n",
      "1      1    10002         1         1         0     0           0        2   \n",
      "2      1    10003         2         1         1     0           1        1   \n",
      "3      1    10004         1         1         0     0           0        1   \n",
      "4      1    10005         1         1         0     0           0        1   \n",
      "\n",
      "   PERSONS  COUNTY   ...     HOSP_HR  HOSP_MN  CF1  CF2  CF3  FATALS  \\\n",
      "0        1      73   ...          88       88    0    0    0       1   \n",
      "1        2      73   ...          99       99    0    0    0       1   \n",
      "2        2      73   ...          88       88    0    0    0       1   \n",
      "3        1      73   ...          99       99    0    0    0       1   \n",
      "4        1      73   ...          88       88    0    0    0       1   \n",
      "\n",
      "   DRUNK_DR  NAME_FIN  CODE_FIN  ST_NAME  \n",
      "0         1         0         0           \n",
      "1         1         0         0           \n",
      "2         0         0         0           \n",
      "3         1         0         0           \n",
      "4         0         0         0           \n",
      "\n",
      "[5 rows x 55 columns]\n"
     ]
    }
   ],
   "source": [
    "print(table.head())"
   ]
  },
  {
   "cell_type": "code",
   "execution_count": 65,
   "metadata": {},
   "outputs": [
    {
     "name": "stderr",
     "output_type": "stream",
     "text": [
      "C:\\Users\\fergu\\Anaconda3\\lib\\site-packages\\ipykernel_launcher.py:4: SettingWithCopyWarning: \n",
      "A value is trying to be set on a copy of a slice from a DataFrame\n",
      "\n",
      "See the caveats in the documentation: http://pandas.pydata.org/pandas-docs/stable/indexing.html#indexing-view-versus-copy\n",
      "  after removing the cwd from sys.path.\n"
     ]
    }
   ],
   "source": [
    "# Populate table with state names according to the dictionary\n",
    "\n",
    "for key in states_dict:\n",
    "    for i in range(0, len(table['STATE']) - 1):\n",
    "        if table['STATE'][i] == key:\n",
    "            table['ST_NAME'][i] = states_dict[key]"
   ]
  },
  {
   "cell_type": "code",
   "execution_count": 66,
   "metadata": {},
   "outputs": [
    {
     "name": "stdout",
     "output_type": "stream",
     "text": [
      "   STATE  ST_CASE  VE_TOTAL  VE_FORMS  PVH_INVL  PEDS  PERNOTMVIT  PERMVIT  \\\n",
      "0      1    10001         1         1         0     0           0        1   \n",
      "1      1    10002         1         1         0     0           0        2   \n",
      "2      1    10003         2         1         1     0           1        1   \n",
      "3      1    10004         1         1         0     0           0        1   \n",
      "4      1    10005         1         1         0     0           0        1   \n",
      "\n",
      "   PERSONS  COUNTY   ...     HOSP_HR  HOSP_MN  CF1  CF2  CF3  FATALS  \\\n",
      "0        1      73   ...          88       88    0    0    0       1   \n",
      "1        2      73   ...          99       99    0    0    0       1   \n",
      "2        2      73   ...          88       88    0    0    0       1   \n",
      "3        1      73   ...          99       99    0    0    0       1   \n",
      "4        1      73   ...          88       88    0    0    0       1   \n",
      "\n",
      "   DRUNK_DR  NAME_FIN  CODE_FIN  ST_NAME  \n",
      "0         1         0         0  Alabama  \n",
      "1         1         0         0  Alabama  \n",
      "2         0         0         0  Alabama  \n",
      "3         1         0         0  Alabama  \n",
      "4         0         0         0  Alabama  \n",
      "\n",
      "[5 rows x 55 columns]\n"
     ]
    }
   ],
   "source": [
    "print(table.head())"
   ]
  },
  {
   "cell_type": "code",
   "execution_count": 67,
   "metadata": {
    "collapsed": true
   },
   "outputs": [],
   "source": [
    "table['TOTAL'] = 1"
   ]
  },
  {
   "cell_type": "code",
   "execution_count": 68,
   "metadata": {
    "collapsed": true
   },
   "outputs": [],
   "source": [
    "state_codes = ['AL', 'AK', 'AZ', 'AR', 'CA', 'CO', 'CT', 'DE', 'DC', 'FL', 'GA', 'HI', 'ID', 'IL', 'IN', 'IA', 'KS', 'KY', 'LA', 'ME', 'MD', 'MA', 'MI', 'MN', 'MS', 'MO', 'MT', 'NE', 'NV', 'NH', 'NJ', 'NM', 'NY', 'NC', 'ND', 'OH', 'OK', 'OR', 'PA', 'RI', 'SC', 'SD', 'TN', 'TX', 'UT', 'VE', 'VA', 'WA', 'WV', 'WI', 'WY']"
   ]
  },
  {
   "cell_type": "code",
   "execution_count": 69,
   "metadata": {},
   "outputs": [
    {
     "name": "stdout",
     "output_type": "stream",
     "text": [
      "{0: 'AL', 1: 'AK', 2: 'AZ', 3: 'AR', 4: 'CA', 5: 'CO', 6: 'CT', 7: 'DE', 8: 'DC', 9: 'FL', 10: 'GA', 11: 'HI', 12: 'ID', 13: 'IL', 14: 'IN', 15: 'IA', 16: 'KS', 17: 'KY', 18: 'LA', 19: 'ME', 20: 'MD', 21: 'MA', 22: 'MI', 23: 'MN', 24: 'MS', 25: 'MO', 26: 'MT', 27: 'NE', 28: 'NV', 29: 'NH', 30: 'NJ', 31: 'NM', 32: 'NY', 33: 'NC', 34: 'ND', 35: 'OH', 36: 'OK', 37: 'OR', 38: 'PA', 39: 'RI', 40: 'SC', 41: 'SD', 42: 'TN', 43: 'TX', 44: 'UT', 45: 'VE', 46: 'VA', 47: 'WA', 48: 'WV', 49: 'WI', 50: 'WY'}\n",
      "{1: 'Alabama', 2: 'Alaska', 4: 'Arizona', 5: 'Arkansas', 6: 'California', 8: 'Colorado', 9: 'Connecticut', 10: 'Delaware', 11: 'DC', 12: 'Florida', 13: 'Georgia', 15: 'Hawaii', 16: 'Idaho', 17: 'Illinois', 18: 'Indiana', 19: 'Iowa', 20: 'Kansas', 21: 'Kentucky', 22: 'Louisiana', 23: 'Maine', 24: 'Maryland', 25: 'Massachusetts', 26: 'Michigan', 27: 'Minnesota', 28: 'Mississippi', 29: 'Missouri', 30: 'Montana', 31: 'Nebraska', 32: 'Nevada', 33: 'New Hampshire', 34: 'New Jersey', 35: 'New Mexico', 36: 'New York', 37: 'North Carolina', 38: 'North Dakota', 39: 'Ohio', 40: 'Oklahoma', 41: 'Oregon', 42: 'Pennsylvania', 44: 'Rhode Island', 45: 'South Carolina', 46: 'South Dakota', 47: 'Tennessee', 48: 'Texas', 49: 'Utah', 50: 'Vermont', 51: 'Virginia', 53: 'Washington', 54: 'West Virginia', 55: 'Wisconsin', 56: 'Wyoming'}\n"
     ]
    }
   ],
   "source": [
    "#Create second dictionary with state abbreviations instead of full names\n",
    "\n",
    "states_dict2 = {}\n",
    "for i in range (0, len(state_codes)):\n",
    "    states_dict2[i] = state_codes[i]\n",
    "print(states_dict2)\n",
    "print(states_dict)"
   ]
  },
  {
   "cell_type": "code",
   "execution_count": 70,
   "metadata": {},
   "outputs": [
    {
     "name": "stdout",
     "output_type": "stream",
     "text": [
      "{'Alabama': 'AL', 'Alaska': 'AK', 'Arizona': 'AZ', 'Arkansas': 'AR', 'California': 'CA', 'Colorado': 'CO', 'Connecticut': 'CT', 'Delaware': 'DE', 'DC': 'DC', 'Florida': 'FL', 'Georgia': 'GA', 'Hawaii': 'HI', 'Idaho': 'ID', 'Illinois': 'IL', 'Indiana': 'IN', 'Iowa': 'IA', 'Kansas': 'KS', 'Kentucky': 'KY', 'Louisiana': 'LA', 'Maine': 'ME', 'Maryland': 'MD', 'Massachusetts': 'MA', 'Michigan': 'MI', 'Minnesota': 'MN', 'Mississippi': 'MS', 'Missouri': 'MO', 'Montana': 'MT', 'Nebraska': 'NE', 'Nevada': 'NV', 'New Hampshire': 'NH', 'New Jersey': 'NJ', 'New Mexico': 'NM', 'New York': 'NY', 'North Carolina': 'NC', 'North Dakota': 'ND', 'Ohio': 'OH', 'Oklahoma': 'OK', 'Oregon': 'OR', 'Pennsylvania': 'PA', 'Rhode Island': 'RI', 'South Carolina': 'SC', 'South Dakota': 'SD', 'Tennessee': 'TN', 'Texas': 'TX', 'Utah': 'UT', 'Vermont': 'VE', 'Virginia': 'VA', 'Washington': 'WA', 'West Virginia': 'WV', 'Wisconsin': 'WI', 'Wyoming': 'WY'}\n"
     ]
    }
   ],
   "source": [
    "# Third dictionary contains full state names and abbreviations. This will be used to populate new column with abbreviations.\n",
    "\n",
    "def change_keys(dict1, dict2):\n",
    "    list1 = []\n",
    "    list2 = []\n",
    "    dict_final = {}\n",
    "    for key in dict1:\n",
    "        list1.append(dict1[key])\n",
    "    for key in dict2:\n",
    "        list2.append(dict2[key])\n",
    "    for i in range(0, len(list1)):\n",
    "        dict_final[str(list1[i])] = str(list2[i])\n",
    "#       dict_final[str([list1][i])] = str(list2[i])\n",
    "    return dict_final\n",
    "\n",
    "dict_final = change_keys(states_dict, states_dict2)\n",
    "print(dict_final)"
   ]
  },
  {
   "cell_type": "code",
   "execution_count": 71,
   "metadata": {},
   "outputs": [
    {
     "name": "stderr",
     "output_type": "stream",
     "text": [
      "C:\\Users\\fergu\\Anaconda3\\lib\\site-packages\\ipykernel_launcher.py:5: SettingWithCopyWarning: \n",
      "A value is trying to be set on a copy of a slice from a DataFrame\n",
      "\n",
      "See the caveats in the documentation: http://pandas.pydata.org/pandas-docs/stable/indexing.html#indexing-view-versus-copy\n",
      "  \"\"\"\n"
     ]
    }
   ],
   "source": [
    "# Add the column with abbreviations for states\n",
    "\n",
    "table['CODE'] = ''\n",
    "for i in range(0, len(table['ST_NAME']) - 1):\n",
    "    for key in dict_final:\n",
    "        if table['ST_NAME'][i] == key:\n",
    "            table['CODE'][i] = dict_final[key]"
   ]
  },
  {
   "cell_type": "code",
   "execution_count": 72,
   "metadata": {},
   "outputs": [
    {
     "name": "stdout",
     "output_type": "stream",
     "text": [
      "   STATE  ST_CASE  VE_TOTAL  VE_FORMS  PVH_INVL  PEDS  PERNOTMVIT  PERMVIT  \\\n",
      "0      1    10001         1         1         0     0           0        1   \n",
      "1      1    10002         1         1         0     0           0        2   \n",
      "2      1    10003         2         1         1     0           1        1   \n",
      "3      1    10004         1         1         0     0           0        1   \n",
      "4      1    10005         1         1         0     0           0        1   \n",
      "\n",
      "   PERSONS  COUNTY  ...   CF1  CF2  CF3  FATALS  DRUNK_DR  NAME_FIN  CODE_FIN  \\\n",
      "0        1      73  ...     0    0    0       1         1         0         0   \n",
      "1        2      73  ...     0    0    0       1         1         0         0   \n",
      "2        2      73  ...     0    0    0       1         0         0         0   \n",
      "3        1      73  ...     0    0    0       1         1         0         0   \n",
      "4        1      73  ...     0    0    0       1         0         0         0   \n",
      "\n",
      "   ST_NAME  TOTAL  CODE  \n",
      "0  Alabama      1    AL  \n",
      "1  Alabama      1    AL  \n",
      "2  Alabama      1    AL  \n",
      "3  Alabama      1    AL  \n",
      "4  Alabama      1    AL  \n",
      "\n",
      "[5 rows x 57 columns]\n"
     ]
    }
   ],
   "source": [
    "print(table.head())"
   ]
  },
  {
   "cell_type": "code",
   "execution_count": 73,
   "metadata": {
    "collapsed": true
   },
   "outputs": [],
   "source": [
    "test = table.groupby(['CODE'])"
   ]
  },
  {
   "cell_type": "code",
   "execution_count": 74,
   "metadata": {
    "scrolled": true
   },
   "outputs": [
    {
     "name": "stdout",
     "output_type": "stream",
     "text": [
      "       STATE     ST_CASE  VE_TOTAL  VE_FORMS  PVH_INVL  PEDS  PERNOTMVIT  \\\n",
      "CODE                                                                       \n",
      "          56      560100         2         2         0     0           0   \n",
      "AK       156     1563081       110       109         1    13          14   \n",
      "AL       937     9811960      1393      1357        36   128         141   \n",
      "AR      2440    24521866       758       752         6    50          50   \n",
      "AZ      3460    34980477      1345      1326        19   242         250   \n",
      "CA     20142   207141537      5315      5072       243  1136        1209   \n",
      "CO      4464    44796209       901       884        17   103         107   \n",
      "CT      2529    25330015       447       433        14    70          77   \n",
      "DC       286     2860351        43        38         5     9           9   \n",
      "DE      1160    11606786       183       171        12    29          33   \n",
      "FL     35196   356545622      4673      4597        76   850         866   \n",
      "GA     18486   185879865      2197      2162        35   283         295   \n",
      "HI      1635    16356252       156       155         1    35          35   \n",
      "IA      6764    67703988       564       546        18    35          38   \n",
      "ID      3712    37147205       326       325         1    28          29   \n",
      "IL     17051   171044520      1618      1569        49   185         191   \n",
      "IN     13824   138548939      1222      1197        25   116         131   \n",
      "KS      7620    76273548       564       559         5    47          47   \n",
      "KY     16023   160522774      1204      1177        27   105         108   \n",
      "LA     15488   155134991      1103      1084        19   166         173   \n",
      "MA      8975    89815579       522       501        21   105         113   \n",
      "MD     11328   113393714       778       746        32   132         133   \n",
      "ME      3473    34741770       208       206         2    22          23   \n",
      "MI     25480   255290780      1569      1536        33   214         232   \n",
      "MN      9639    96456742       577       571         6    69          73   \n",
      "MO     25172   252109993      1316      1294        22   113         121   \n",
      "MS     17584   176041279       934       923        11    67          68   \n",
      "MT      5130    51314706       215       213         2    15          15   \n",
      "NC     49876   499675900      2052      2023        29   243         244   \n",
      "ND      3876    38765253       139       139         0    18          18   \n",
      "NE      6014    60159090       308       304         4    13          13   \n",
      "NH      4290    42908515       175       174         1    21          21   \n",
      "NJ     19346   193623638       867       833        34   187         191   \n",
      "NM     12530   125364535       513       506         7    81          81   \n",
      "NV      9696    97006223       474       465         9    92          95   \n",
      "NY     34740   347868334      1471      1372        99   392         409   \n",
      "OH     41067   411251540      1682      1640        42   180         192   \n",
      "OK     24960   249796233       958       934        24   100         104   \n",
      "OR     18286   182960078       670       665         5    92          93   \n",
      "PA     45696   457554627      1768      1698        70   212         225   \n",
      "RI      2112    21121176        69        66         3    16          17   \n",
      "SC     42120   421638896      1431      1402        29   183         184   \n",
      "SD      4738    47385356       140       139         1     7           7   \n",
      "TN     45402   454499547      1493      1467        26   115         120   \n",
      "TX    163536  1641346248      5468      5297       171   800         858   \n",
      "UT     12691   126944893       411       402         9    45          48   \n",
      "VA     36822   368483993      1058      1046        12   144         147   \n",
      "VE      2850    28501653        79        77         2     6           6   \n",
      "WA     26712   267253046       792       765        27   113         123   \n",
      "WI     29920   299349663       813       799        14    67          68   \n",
      "WV     13500   135031911       368       363         5    29          29   \n",
      "WY      5544    55444950       156       150         6     7          10   \n",
      "\n",
      "      PERMVIT  PERSONS  COUNTY  ...    HOSP_HR  HOSP_MN    CF1    CF2    CF3  \\\n",
      "CODE                            ...                                            \n",
      "            4        4      21  ...         15        4      0      0      0   \n",
      "AK        181      182    9746  ...       4028     4745    440    319    297   \n",
      "AL       2050     2063   67309  ...      68304    71560   1153     74     37   \n",
      "AR       1107     1107   38042  ...      46178    46178    518     14      0   \n",
      "AZ       2108     2116   13060  ...      51187    57351   1203    195     29   \n",
      "CA       7590     7663  190073  ...     316716   316787   5905    872     34   \n",
      "CO       1327     1331   29934  ...      38755    41264    852     19      0   \n",
      "CT        624      631    1743  ...      14833    17061    744    518    495   \n",
      "DC         56       56      26  ...       2264     2289   1017    925    891   \n",
      "DE        254      258     356  ...       5303     6705    383    153     99   \n",
      "FL       6759     6775  207294  ...     279537   279568   1514    130      0   \n",
      "GA       3216     3228  194184  ...      85271    94767   1306    145     99   \n",
      "HI        216      216     419  ...       4414     5620     76      0      0   \n",
      "IA        829      832   37540  ...      22487    24787    353      0      0   \n",
      "ID        516      517    9012  ...      22055    22055    237     39      0   \n",
      "IL       2254     2260   90537  ...      96501    96513   1329    159     69   \n",
      "IN       1754     1769   68336  ...      74305    74205    725     55     46   \n",
      "KS        794      794   46317  ...      17672    20930    285     33     23   \n",
      "KY       1786     1789   92801  ...      34953    41219    932    118     99   \n",
      "LA       1614     1621   43208  ...      33445    39677   1246    322    149   \n",
      "MA        704      712    5681  ...      22970    25795   1637   1287   1287   \n",
      "MD       1046     1047   29391  ...      45144    45144    683    178    114   \n",
      "ME        303      304    2373  ...       6695     7978      0      0      0   \n",
      "MI       2266     2284  101416  ...      93434    93433  15163  12775  12573   \n",
      "MN        809      813   28441  ...      17223    20154    374     99     99   \n",
      "MO       1905     1913  120571  ...      46775    53741    477     53      0   \n",
      "MS       1384     1385   50196  ...      46930    49369    345     99     99   \n",
      "MT        339      339    9105  ...       8876    10284     46      0      0   \n",
      "NC       2924     2925  139448  ...      77990    87188    830     57      0   \n",
      "ND        211      211    5390  ...       5394     6321    107      0      0   \n",
      "NE        431      431   16818  ...      10854    12101     63      0      0   \n",
      "NH        242      242    1414  ...       5064     6123    116     34      0   \n",
      "NJ       1228     1232   10515  ...      40781    43170    552     54     14   \n",
      "NM        890      890    8492  ...      18769    21687    189     50      0   \n",
      "NV        712      715    6310  ...      18080    19819    518      0      0   \n",
      "NY       1967     1984   61423  ...      60887    66872    665      0      0   \n",
      "OH       2414     2426   88261  ...      39800    51488   1123    202     99   \n",
      "OK       1397     1401   54090  ...      32997    38159    920    162      0   \n",
      "OR        985      986   16380  ...      32523    34165    191     46      0   \n",
      "PA       2438     2451   69298  ...      69237    75516   1147    132     14   \n",
      "RI         92       93     316  ...       1376     2069     50      0      0   \n",
      "SC       2015     2016   44008  ...      88946    88946    497     15      0   \n",
      "SD        222      222    8289  ...       6205     6862      0      0      0   \n",
      "TN       2172     2177   97444  ...      73323    77062    974    115      0   \n",
      "TX       8112     8170  787535  ...     214727   235686   5048    619    174   \n",
      "UT        673      676    8707  ...      16801    17929    166     23      0   \n",
      "VA       1446     1449  158786  ...      47492    50998    610     65      0   \n",
      "VE        109      109     839  ...       3133     3519     52      0      0   \n",
      "WA       1137     1147   21512  ...      47443    47261    427      0      0   \n",
      "WI       1222     1223   40348  ...      41422    43404    643    210    125   \n",
      "WV        523      523   12596  ...      18227    19072    280      0      0   \n",
      "WY        255      258    2267  ...       4566     5527    112      0      0   \n",
      "\n",
      "      FATALS  DRUNK_DR  NAME_FIN  CODE_FIN  TOTAL  \n",
      "CODE                                               \n",
      "           1         0         0         0      1  \n",
      "AK        84        36         0         0     78  \n",
      "AL      1038       140         0         0    937  \n",
      "AR       545       120         0         0    488  \n",
      "AZ       962       207         0         0    865  \n",
      "CA      3623       812         0         0   3357  \n",
      "CO       608       194         0         0    558  \n",
      "CT       293        89         0         0    281  \n",
      "DC        27        10         0         0     26  \n",
      "DE       119        39         0         0    116  \n",
      "FL      3174       642         0         0   2933  \n",
      "GA      1554       315         0         0   1422  \n",
      "HI       120        28         0         0    109  \n",
      "IA       404        93         0         0    356  \n",
      "ID       253        67         0         0    232  \n",
      "IL      1082       271         0         0   1003  \n",
      "IN       821       138         0         0    768  \n",
      "KS       429        79         0         0    381  \n",
      "KY       834       193         0         0    763  \n",
      "LA       757       220         0         0    704  \n",
      "MA       389       105         0         0    359  \n",
      "MD       505       119         0         0    472  \n",
      "ME       161        47         0         0    151  \n",
      "MI      1064       256         0         0    980  \n",
      "MN       392        99         0         0    357  \n",
      "MO       945       248         0         0    868  \n",
      "MS       690       104         0         0    628  \n",
      "MT       190        83         0         0    171  \n",
      "NC      1450       390         0         0   1348  \n",
      "ND       113        50         0         0    102  \n",
      "NE       218        78         0         0    194  \n",
      "NH       136        39         0         0    130  \n",
      "NJ       601       127         0         0    569  \n",
      "NM       402       108         0         0    358  \n",
      "NV       328        97         0         0    303  \n",
      "NY      1025       169         0         0    965  \n",
      "OH      1132       366         0         0   1053  \n",
      "OK       683       177         0         0    624  \n",
      "OR       495       122         0         0    446  \n",
      "PA      1188       263         0         0   1088  \n",
      "RI        51        18         0         0     48  \n",
      "SC      1015       336         0         0    936  \n",
      "SD       116        44         0         0    103  \n",
      "TN      1041       222         0         0    966  \n",
      "TX      3776       873         0         0   3407  \n",
      "UT       281        52         0         0    259  \n",
      "VA       760       216         0         0    722  \n",
      "VE        62        27         0         0     57  \n",
      "WA       537       162         0         0    504  \n",
      "WI       607       181         0         0    544  \n",
      "WV       269        69         0         0    250  \n",
      "WY       111        29         0         0     99  \n",
      "\n",
      "[52 rows x 52 columns]\n"
     ]
    }
   ],
   "source": [
    "test_bar = test.agg('sum')\n",
    "print(test_bar)"
   ]
  },
  {
   "cell_type": "code",
   "execution_count": 75,
   "metadata": {},
   "outputs": [
    {
     "name": "stdout",
     "output_type": "stream",
     "text": [
      "  CODE  STATE   ST_CASE  VE_TOTAL  VE_FORMS  PVH_INVL  PEDS  PERNOTMVIT  \\\n",
      "0          56    560100         2         2         0     0           0   \n",
      "1   AK    156   1563081       110       109         1    13          14   \n",
      "2   AL    937   9811960      1393      1357        36   128         141   \n",
      "3   AR   2440  24521866       758       752         6    50          50   \n",
      "4   AZ   3460  34980477      1345      1326        19   242         250   \n",
      "\n",
      "   PERMVIT  PERSONS    ...      HOSP_MN   CF1  CF2  CF3  FATALS  DRUNK_DR  \\\n",
      "0        4        4    ...            4     0    0    0       1         0   \n",
      "1      181      182    ...         4745   440  319  297      84        36   \n",
      "2     2050     2063    ...        71560  1153   74   37    1038       140   \n",
      "3     1107     1107    ...        46178   518   14    0     545       120   \n",
      "4     2108     2116    ...        57351  1203  195   29     962       207   \n",
      "\n",
      "   NAME_FIN  CODE_FIN  TOTAL  NOT_DRUNK  \n",
      "0         0         0      1          1  \n",
      "1         0         0     78         42  \n",
      "2         0         0    937        797  \n",
      "3         0         0    488        368  \n",
      "4         0         0    865        658  \n",
      "\n",
      "[5 rows x 54 columns]\n"
     ]
    }
   ],
   "source": [
    "test_bar2 = test_bar.reset_index()\n",
    "test_bar2['NOT_DRUNK'] = test_bar2['TOTAL'] - test_bar2['DRUNK_DR']\n",
    "print(test_bar2.head())"
   ]
  },
  {
   "cell_type": "markdown",
   "metadata": {},
   "source": [
    "## Results\n",
    "\n",
    "Having sufficiently cleaned the data, we were able to get some preliminary plots. The first plot below shows the number of fatal\n",
    "road accidents that occurred in 2016, by state. As we can, see, Texas, California had the most fatal traffic accidents by a long margin. This can be explained in part by the fact that these states are the most populous states. However, New York state has a \n",
    "very large population (though not as large as those three) yet its number of fatal accidents is much lower than one would expect if going by population alone. \n",
    "This apparent anomaly can perhaps be explained best if we consider the fact that New York state probably has a lot more public\n",
    "transport options that Texas, California or Florida and people probably drive a lot less. Thus we might expect our traffic\n",
    "accident data to correlate better with the number of cars owned or miles driven than with population. This would be a good area\n",
    "for further research, as well as law enforcement presence and policy, to see how these influence the likelihood of certain kinds\n",
    "of traffic accidents."
   ]
  },
  {
   "cell_type": "code",
   "execution_count": 76,
   "metadata": {},
   "outputs": [
    {
     "data": {
      "image/png": "[encoded data removed]",
      "text/plain": [
       "<matplotlib.figure.Figure at 0x2953c017a90>"
      ]
     },
     "metadata": {},
     "output_type": "display_data"
    }
   ],
   "source": [
    "x = np.arange(len(test_bar2['CODE']))\n",
    "y1 = test_bar2['DRUNK_DR']\n",
    "y2 = test_bar2['NOT_DRUNK']\n",
    "width = 0.6\n",
    "#len(test_bar2['STATE'])\n",
    "p1=plt.bar(x, y1, width)\n",
    "p2=plt.bar(x, y2, width, bottom=y1)\n",
    "plt.xticks(x, test_bar2['CODE'])\n",
    "plt.ylabel(\"Number of Fatal Accidents\")\n",
    "plt.title(\"2016 Fatal Traffic Accidents by State\")\n",
    "plt.legend((p1[0], p2[0]), ('Alcohol-Related', 'Non-Alcohol-Related'))\n",
    "plt.show()"
   ]
  },
  {
   "cell_type": "code",
   "execution_count": 77,
   "metadata": {},
   "outputs": [
    {
     "data": {
      "image/png": "[encoded data removed]",
      "text/plain": [
       "<matplotlib.figure.Figure at 0x2953baa2ac8>"
      ]
     },
     "metadata": {},
     "output_type": "display_data"
    }
   ],
   "source": [
    "x = np.arange(len(test_bar2['CODE']))\n",
    "y = test_bar2['TOTAL']\n",
    "width = .8\n",
    "#len(test_bar2['STATE'])\n",
    "plt.barh(x, y, width, color='green')\n",
    "plt.yticks(x, test_bar2['CODE'])\n",
    "plt.xlabel(\"Number of Fatal Accidents\")\n",
    "plt.title(\"2016 Fatal Traffic Accidents by State\")\n",
    "plt.gca().invert_yaxis()\n",
    "plt.rcParams['figure.figsize'] = [20.0, 13.0]\n",
    "plt.show()"
   ]
  },
  {
   "cell_type": "code",
   "execution_count": 78,
   "metadata": {},
   "outputs": [
    {
     "data": {
      "image/png": "[encoded data removed]",
      "text/plain": [
       "<matplotlib.figure.Figure at 0x2953bc354a8>"
      ]
     },
     "metadata": {},
     "output_type": "display_data"
    }
   ],
   "source": [
    "## DISCARD ##\n",
    "\n",
    "plt.hist(table['DAY_WEEK'], bins=7)\n",
    "plt.rcParams['figure.figsize'] = [10, 10]\n",
    "#plt.xlabel(['Sunday', 'Monday', 'Tuesday', 'Wednesday', 'Thursday', 'Friday', 'Saturday'])\n",
    "plt.show()"
   ]
  },
  {
   "cell_type": "code",
   "execution_count": 79,
   "metadata": {
    "scrolled": true
   },
   "outputs": [
    {
     "data": {
      "image/png": "[encoded data removed]",
      "text/plain": [
       "<matplotlib.figure.Figure at 0x2953ec3e3c8>"
      ]
     },
     "metadata": {},
     "output_type": "display_data"
    }
   ],
   "source": [
    "## DISCARD ##\n",
    "\n",
    "plt.hist(table['DAY'], bins=30, color='orange')\n",
    "plt.rcParams['figure.figsize'] = [20, 4]\n",
    "plt.show()"
   ]
  },
  {
   "cell_type": "code",
   "execution_count": 80,
   "metadata": {},
   "outputs": [
    {
     "name": "stdout",
     "output_type": "stream",
     "text": [
      "   STATE  ST_CASE  VE_TOTAL  VE_FORMS  PVH_INVL  PEDS  PERNOTMVIT  PERMVIT  \\\n",
      "0      1    10001         1         1         0     0           0        1   \n",
      "1      1    10002         1         1         0     0           0        2   \n",
      "2      1    10003         2         1         1     0           1        1   \n",
      "3      1    10004         1         1         0     0           0        1   \n",
      "4      1    10005         1         1         0     0           0        1   \n",
      "\n",
      "   PERSONS  COUNTY    ...      CF2  CF3  FATALS  DRUNK_DR  NAME_FIN  CODE_FIN  \\\n",
      "0        1      73    ...        0    0       1         1         0         0   \n",
      "1        2      73    ...        0    0       1         1         0         0   \n",
      "2        2      73    ...        0    0       1         0         0         0   \n",
      "3        1      73    ...        0    0       1         1         0         0   \n",
      "4        1      73    ...        0    0       1         0         0         0   \n",
      "\n",
      "   ST_NAME  TOTAL  CODE  TIME_FRAC  \n",
      "0  Alabama      1    AL          0  \n",
      "1  Alabama      1    AL          0  \n",
      "2  Alabama      1    AL          0  \n",
      "3  Alabama      1    AL          0  \n",
      "4  Alabama      1    AL          0  \n",
      "\n",
      "[5 rows x 58 columns]\n"
     ]
    }
   ],
   "source": [
    "table['TIME_FRAC'] = 0\n",
    "print(table.head())"
   ]
  },
  {
   "cell_type": "code",
   "execution_count": 81,
   "metadata": {},
   "outputs": [
    {
     "name": "stderr",
     "output_type": "stream",
     "text": [
      "C:\\Users\\fergu\\Anaconda3\\lib\\site-packages\\ipykernel_launcher.py:3: SettingWithCopyWarning: \n",
      "A value is trying to be set on a copy of a slice from a DataFrame.\n",
      "Try using .loc[row_indexer,col_indexer] = value instead\n",
      "\n",
      "See the caveats in the documentation: http://pandas.pydata.org/pandas-docs/stable/indexing.html#indexing-view-versus-copy\n",
      "  This is separate from the ipykernel package so we can avoid doing imports until\n"
     ]
    }
   ],
   "source": [
    "updated_table = table[table['HOUR'] <= 23] \n",
    "updated_table = table[table['MINUTE'] <= 59]\n",
    "updated_table['TIME_FRAC'] = updated_table['HOUR'] + updated_table['MINUTE'] / 60\n",
    "#print(type(table['MINUTE'][0]))\n"
   ]
  },
  {
   "cell_type": "code",
   "execution_count": 82,
   "metadata": {},
   "outputs": [
    {
     "name": "stdout",
     "output_type": "stream",
     "text": [
      "   STATE  ST_CASE  VE_TOTAL  VE_FORMS  PVH_INVL  PEDS  PERNOTMVIT  PERMVIT  \\\n",
      "0      1    10001         1         1         0     0           0        1   \n",
      "1      1    10002         1         1         0     0           0        2   \n",
      "2      1    10003         2         1         1     0           1        1   \n",
      "3      1    10004         1         1         0     0           0        1   \n",
      "4      1    10005         1         1         0     0           0        1   \n",
      "\n",
      "   PERSONS  COUNTY    ...      CF2  CF3  FATALS  DRUNK_DR  NAME_FIN  CODE_FIN  \\\n",
      "0        1      73    ...        0    0       1         1         0         0   \n",
      "1        2      73    ...        0    0       1         1         0         0   \n",
      "2        2      73    ...        0    0       1         0         0         0   \n",
      "3        1      73    ...        0    0       1         1         0         0   \n",
      "4        1      73    ...        0    0       1         0         0         0   \n",
      "\n",
      "   ST_NAME  TOTAL  CODE  TIME_FRAC  \n",
      "0  Alabama      1    AL   9.416667  \n",
      "1  Alabama      1    AL  19.983333  \n",
      "2  Alabama      1    AL   2.333333  \n",
      "3  Alabama      1    AL  21.750000  \n",
      "4  Alabama      1    AL  20.116667  \n",
      "\n",
      "[5 rows x 58 columns]\n"
     ]
    }
   ],
   "source": [
    "print(updated_table.head())"
   ]
  },
  {
   "cell_type": "code",
   "execution_count": 83,
   "metadata": {},
   "outputs": [
    {
     "name": "stderr",
     "output_type": "stream",
     "text": [
      "C:\\Users\\fergu\\Anaconda3\\lib\\site-packages\\ipykernel_launcher.py:1: SettingWithCopyWarning: \n",
      "A value is trying to be set on a copy of a slice from a DataFrame.\n",
      "Try using .loc[row_indexer,col_indexer] = value instead\n",
      "\n",
      "See the caveats in the documentation: http://pandas.pydata.org/pandas-docs/stable/indexing.html#indexing-view-versus-copy\n",
      "  \"\"\"Entry point for launching an IPython kernel.\n"
     ]
    }
   ],
   "source": [
    "updated_table['TIME_FRAC'] = updated_table['TIME_FRAC'].round(2)\n",
    "#round(updated_table['TIME_FRAC'], '0.2f')\n",
    "#print(type(updated_table['TIME_FRAC'][100]))"
   ]
  },
  {
   "cell_type": "code",
   "execution_count": 84,
   "metadata": {},
   "outputs": [
    {
     "name": "stdout",
     "output_type": "stream",
     "text": [
      "   STATE  ST_CASE  VE_TOTAL  VE_FORMS  PVH_INVL  PEDS  PERNOTMVIT  PERMVIT  \\\n",
      "0      1    10001         1         1         0     0           0        1   \n",
      "1      1    10002         1         1         0     0           0        2   \n",
      "2      1    10003         2         1         1     0           1        1   \n",
      "3      1    10004         1         1         0     0           0        1   \n",
      "4      1    10005         1         1         0     0           0        1   \n",
      "\n",
      "   PERSONS  COUNTY    ...      CF2  CF3  FATALS  DRUNK_DR  NAME_FIN  CODE_FIN  \\\n",
      "0        1      73    ...        0    0       1         1         0         0   \n",
      "1        2      73    ...        0    0       1         1         0         0   \n",
      "2        2      73    ...        0    0       1         0         0         0   \n",
      "3        1      73    ...        0    0       1         1         0         0   \n",
      "4        1      73    ...        0    0       1         0         0         0   \n",
      "\n",
      "   ST_NAME  TOTAL  CODE  TIME_FRAC  \n",
      "0  Alabama      1    AL       9.42  \n",
      "1  Alabama      1    AL      19.98  \n",
      "2  Alabama      1    AL       2.33  \n",
      "3  Alabama      1    AL      21.75  \n",
      "4  Alabama      1    AL      20.12  \n",
      "\n",
      "[5 rows x 58 columns]\n"
     ]
    }
   ],
   "source": [
    "print(updated_table.head())"
   ]
  },
  {
   "cell_type": "code",
   "execution_count": 85,
   "metadata": {},
   "outputs": [
    {
     "data": {
      "image/png": "[encoded data removed]",
      "text/plain": [
       "<matplotlib.figure.Figure at 0x2953ec80278>"
      ]
     },
     "metadata": {},
     "output_type": "display_data"
    }
   ],
   "source": [
    "plt.figure(figsize=(18,6))\n",
    "\n",
    "plt.subplot(1,2,1)\n",
    "plt.hist(updated_table['DAY_WEEK'], bins=7, color='cyan')\n",
    "#plt.axvline(updated_table['DAY_WEEK'].mean(), color='r', linestyle='solid', linewidth=2)\n",
    "#plt.axvline(updated_table['DAY_WEEK'].mean() - updated_table['DAY_WEEK'].std())\n",
    "plt.xlabel('Day of the Week (1 = Sunday)')\n",
    "plt.ylabel('Number of 2016 Fatal Road Accidents')\n",
    "\n",
    "plt.subplot(1,2,2)\n",
    "plt.hist(updated_table['TIME_FRAC'], bins=24, color='y')\n",
    "plt.axvline(updated_table['TIME_FRAC'].mean(), linestyle='solid', color='r', linewidth=2)\n",
    "plt.axvline(updated_table['TIME_FRAC'].mean() - updated_table['TIME_FRAC'].std(), linestyle='dashed', color='r', linewidth=2)\n",
    "plt.axvline(updated_table['TIME_FRAC'].mean() + updated_table['TIME_FRAC'].std(), linestyle='dashed', color='r', linewidth=2)\n",
    "plt.xlabel('Time of Day (Midnight = 0)')\n",
    "plt.ylabel('Number of 2016 Fatal Road Accidents')\n",
    "plt.show()"
   ]
  },
  {
   "cell_type": "code",
   "execution_count": 86,
   "metadata": {},
   "outputs": [
    {
     "data": {
      "image/png": "[encoded data removed]",
      "text/plain": [
       "<matplotlib.figure.Figure at 0x2953ec924e0>"
      ]
     },
     "metadata": {},
     "output_type": "display_data"
    }
   ],
   "source": [
    "plt.figure(figsize=(18,6))\n",
    "plt.boxplot(updated_table['TIME_FRAC'])\n",
    "#plt.ylabel()\n",
    "plt.show()\n",
    "#interpret posn of median re: mean, etc."
   ]
  },
  {
   "cell_type": "code",
   "execution_count": 87,
   "metadata": {},
   "outputs": [
    {
     "data": {
      "image/png": "[encoded data removed]",
      "text/plain": [
       "<matplotlib.figure.Figure at 0x2953ed8bd30>"
      ]
     },
     "metadata": {},
     "output_type": "display_data"
    }
   ],
   "source": [
    "plt.hist(updated_table['VE_FORMS'], alpha=0.5)\n",
    "plt.hist(updated_table['PVH_INVL'], alpha=0.5)\n",
    "plt.show()"
   ]
  },
  {
   "cell_type": "code",
   "execution_count": null,
   "metadata": {
    "collapsed": true
   },
   "outputs": [],
   "source": []
  }
 ],
 "metadata": {
  "kernelspec": {
   "display_name": "Python 3",
   "language": "python",
   "name": "python3"
  },
  "language_info": {
   "codemirror_mode": {
    "name": "ipython",
    "version": 3
   },
   "file_extension": ".py",
   "mimetype": "text/x-python",
   "name": "python",
   "nbconvert_exporter": "python",
   "pygments_lexer": "ipython3",
   "version": "3.6.2"
  }
 },
 "nbformat": 4,
 "nbformat_minor": 2
}
