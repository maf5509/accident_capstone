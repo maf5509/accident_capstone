{
 "cells": [
  {
   "cell_type": "code",
   "execution_count": 2,
   "metadata": {
    "collapsed": true
   },
   "outputs": [],
   "source": [
    "import pandas as pd\n",
    "import numpy as np\n",
    "import matplotlib.pyplot as plt\n",
    "import math"
   ]
  },
  {
   "cell_type": "code",
   "execution_count": 3,
   "metadata": {
    "collapsed": true
   },
   "outputs": [],
   "source": [
    "table = pd.read_csv(\"C://Users//fergu//accident.csv\", na_values = 'NaN')"
   ]
  },
  {
   "cell_type": "code",
   "execution_count": 4,
   "metadata": {
    "scrolled": true
   },
   "outputs": [
    {
     "name": "stdout",
     "output_type": "stream",
     "text": [
      "   STATE  ST_CASE  VE_TOTAL  VE_FORMS  PVH_INVL  PEDS  PERNOTMVIT  PERMVIT  \\\n",
      "0      1    10001         1         1         0     0           0        1   \n",
      "1      1    10002         1         1         0     0           0        2   \n",
      "2      1    10003         2         1         1     0           1        1   \n",
      "3      1    10004         1         1         0     0           0        1   \n",
      "4      1    10005         1         1         0     0           0        1   \n",
      "\n",
      "   PERSONS  COUNTY    ...     NOT_MIN  ARR_HOUR  ARR_MIN  HOSP_HR  HOSP_MN  \\\n",
      "0        1      73    ...          31         9       36       88       88   \n",
      "1        2      73    ...          99        20        5       99       99   \n",
      "2        2      73    ...          99         2       31       88       88   \n",
      "3        1      73    ...          99        21       57       99       99   \n",
      "4        1      73    ...           7        20       10       88       88   \n",
      "\n",
      "   CF1  CF2  CF3  FATALS  DRUNK_DR  \n",
      "0    0    0    0       1         1  \n",
      "1    0    0    0       1         1  \n",
      "2    0    0    0       1         0  \n",
      "3    0    0    0       1         1  \n",
      "4    0    0    0       1         0  \n",
      "\n",
      "[5 rows x 52 columns]\n"
     ]
    }
   ],
   "source": [
    "print(table.head())"
   ]
  },
  {
   "cell_type": "code",
   "execution_count": 5,
   "metadata": {
    "collapsed": true
   },
   "outputs": [],
   "source": [
    "state_counts = table['STATE'].value_counts()\n",
    "#print(state_counts)"
   ]
  },
  {
   "cell_type": "code",
   "execution_count": 6,
   "metadata": {
    "collapsed": true
   },
   "outputs": [],
   "source": [
    "states = list(table['STATE']) "
   ]
  },
  {
   "cell_type": "code",
   "execution_count": 7,
   "metadata": {
    "scrolled": true
   },
   "outputs": [
    {
     "name": "stdout",
     "output_type": "stream",
     "text": [
      "[ 1  2  4  5  6  8  9 10 11 12 13 15 16 17 18 19 20 21 22 23 24 25 26 27 28\n",
      " 29 30 31 32 33 34 35 36 37 38 39 40 41 42 44 45 46 47 48 49 50 51 53 54 55\n",
      " 56]\n"
     ]
    }
   ],
   "source": [
    "states_final = np.unique(states)\n",
    "print(states_final)"
   ]
  },
  {
   "cell_type": "code",
   "execution_count": 8,
   "metadata": {},
   "outputs": [
    {
     "name": "stdout",
     "output_type": "stream",
     "text": [
      "{1: 0, 2: 0, 4: 0, 5: 0, 6: 0, 8: 0, 9: 0, 10: 0, 11: 0, 12: 0, 13: 0, 15: 0, 16: 0, 17: 0, 18: 0, 19: 0, 20: 0, 21: 0, 22: 0, 23: 0, 24: 0, 25: 0, 26: 0, 27: 0, 28: 0, 29: 0, 30: 0, 31: 0, 32: 0, 33: 0, 34: 0, 35: 0, 36: 0, 37: 0, 38: 0, 39: 0, 40: 0, 41: 0, 42: 0, 44: 0, 45: 0, 46: 0, 47: 0, 48: 0, 49: 0, 50: 0, 51: 0, 53: 0, 54: 0, 55: 0, 56: 0}\n"
     ]
    }
   ],
   "source": [
    "states_dict = {}\n",
    "for item in states_final:\n",
    "     states_dict[item] = 0\n",
    "print(states_dict)"
   ]
  },
  {
   "cell_type": "code",
   "execution_count": 9,
   "metadata": {
    "collapsed": true
   },
   "outputs": [],
   "source": [
    "states = pd.read_csv('C://Users//fergu//States.csv', na_values = 'NaN')"
   ]
  },
  {
   "cell_type": "code",
   "execution_count": 10,
   "metadata": {},
   "outputs": [
    {
     "name": "stdout",
     "output_type": "stream",
     "text": [
      "    Unnamed: 0          State Unnamed: 2\n",
      "0            1        Alabama        NaN\n",
      "1            2         Alaska        NaN\n",
      "2            4        Arizona        NaN\n",
      "3            5       Arkansas        NaN\n",
      "4            6     California        NaN\n",
      "5            8       Colorado        NaN\n",
      "6            9    Connecticut        NaN\n",
      "7           10       Delaware        NaN\n",
      "8           11             DC        NaN\n",
      "9           12        Florida        NaN\n",
      "10          13        Georgia        NaN\n",
      "11          15         Hawaii        NaN\n",
      "12          16          Idaho        NaN\n",
      "13          17       Illinois        NaN\n",
      "14          18        Indiana        NaN\n",
      "15          19           Iowa        NaN\n",
      "16          20         Kansas        NaN\n",
      "17          21       Kentucky        NaN\n",
      "18          22      Louisiana        NaN\n",
      "19          23          Maine        NaN\n",
      "20          24       Maryland        NaN\n",
      "21          25  Massachusetts        NaN\n",
      "22          26       Michigan        NaN\n",
      "23          27      Minnesota        NaN\n",
      "24          28    Mississippi        NaN\n",
      "25          29       Missouri        NaN\n",
      "26          30        Montana        NaN\n",
      "27          31       Nebraska        NaN\n",
      "28          32         Nevada        NaN\n",
      "29          33            New  Hampshire\n",
      "30          34            New     Jersey\n",
      "31          35            New     Mexico\n",
      "32          36            New       York\n",
      "33          37          North   Carolina\n",
      "34          38          North     Dakota\n",
      "35          39           Ohio        NaN\n",
      "36          40       Oklahoma        NaN\n",
      "37          41         Oregon        NaN\n",
      "38          42   Pennsylvania        NaN\n",
      "39          43         Puerto       Rico\n",
      "40          44          Rhode     Island\n",
      "41          45          South   Carolina\n",
      "42          46          South     Dakota\n",
      "43          47      Tennessee        NaN\n",
      "44          48          Texas        NaN\n",
      "45          49           Utah        NaN\n",
      "46          50        Vermont        NaN\n",
      "47          52         Virgin    Islands\n",
      "48          51       Virginia        NaN\n",
      "49          53     Washington        NaN\n",
      "50          54           West   Virginia\n",
      "51          55      Wisconsin        NaN\n",
      "52          56        Wyoming        NaN\n"
     ]
    }
   ],
   "source": [
    "print(states)"
   ]
  },
  {
   "cell_type": "code",
   "execution_count": 11,
   "metadata": {
    "collapsed": true
   },
   "outputs": [],
   "source": [
    "states.columns = ['code', 'state', 'wildcard']"
   ]
  },
  {
   "cell_type": "code",
   "execution_count": 12,
   "metadata": {},
   "outputs": [
    {
     "name": "stdout",
     "output_type": "stream",
     "text": [
      "   code       state wildcard\n",
      "0     1     Alabama      NaN\n",
      "1     2      Alaska      NaN\n",
      "2     4     Arizona      NaN\n",
      "3     5    Arkansas      NaN\n",
      "4     6  California      NaN\n"
     ]
    }
   ],
   "source": [
    "print(states.head())"
   ]
  },
  {
   "cell_type": "code",
   "execution_count": 13,
   "metadata": {},
   "outputs": [
    {
     "name": "stderr",
     "output_type": "stream",
     "text": [
      "C:\\Users\\fergu\\Anaconda3\\lib\\site-packages\\ipykernel_launcher.py:3: SettingWithCopyWarning: \n",
      "A value is trying to be set on a copy of a slice from a DataFrame\n",
      "\n",
      "See the caveats in the documentation: http://pandas.pydata.org/pandas-docs/stable/indexing.html#indexing-view-versus-copy\n",
      "  This is separate from the ipykernel package so we can avoid doing imports until\n"
     ]
    }
   ],
   "source": [
    "   for i in range(0, len(states.wildcard) - 1):        \n",
    "       if type(states.wildcard[i]) != float:\n",
    "           states.state[i] += ' ' + str(states.wildcard[i])        "
   ]
  },
  {
   "cell_type": "code",
   "execution_count": 14,
   "metadata": {},
   "outputs": [
    {
     "name": "stdout",
     "output_type": "stream",
     "text": [
      "    code           state   wildcard\n",
      "0      1         Alabama        NaN\n",
      "1      2          Alaska        NaN\n",
      "2      4         Arizona        NaN\n",
      "3      5        Arkansas        NaN\n",
      "4      6      California        NaN\n",
      "5      8        Colorado        NaN\n",
      "6      9     Connecticut        NaN\n",
      "7     10        Delaware        NaN\n",
      "8     11              DC        NaN\n",
      "9     12         Florida        NaN\n",
      "10    13         Georgia        NaN\n",
      "11    15          Hawaii        NaN\n",
      "12    16           Idaho        NaN\n",
      "13    17        Illinois        NaN\n",
      "14    18         Indiana        NaN\n",
      "15    19            Iowa        NaN\n",
      "16    20          Kansas        NaN\n",
      "17    21        Kentucky        NaN\n",
      "18    22       Louisiana        NaN\n",
      "19    23           Maine        NaN\n",
      "20    24        Maryland        NaN\n",
      "21    25   Massachusetts        NaN\n",
      "22    26        Michigan        NaN\n",
      "23    27       Minnesota        NaN\n",
      "24    28     Mississippi        NaN\n",
      "25    29        Missouri        NaN\n",
      "26    30         Montana        NaN\n",
      "27    31        Nebraska        NaN\n",
      "28    32          Nevada        NaN\n",
      "29    33   New Hampshire  Hampshire\n",
      "30    34      New Jersey     Jersey\n",
      "31    35      New Mexico     Mexico\n",
      "32    36        New York       York\n",
      "33    37  North Carolina   Carolina\n",
      "34    38    North Dakota     Dakota\n",
      "35    39            Ohio        NaN\n",
      "36    40        Oklahoma        NaN\n",
      "37    41          Oregon        NaN\n",
      "38    42    Pennsylvania        NaN\n",
      "39    43     Puerto Rico       Rico\n",
      "40    44    Rhode Island     Island\n",
      "41    45  South Carolina   Carolina\n",
      "42    46    South Dakota     Dakota\n",
      "43    47       Tennessee        NaN\n",
      "44    48           Texas        NaN\n",
      "45    49            Utah        NaN\n",
      "46    50         Vermont        NaN\n",
      "47    52  Virgin Islands    Islands\n",
      "48    51        Virginia        NaN\n",
      "49    53      Washington        NaN\n",
      "50    54   West Virginia   Virginia\n",
      "51    55       Wisconsin        NaN\n",
      "52    56         Wyoming        NaN\n"
     ]
    }
   ],
   "source": [
    "print(states)"
   ]
  },
  {
   "cell_type": "code",
   "execution_count": 15,
   "metadata": {},
   "outputs": [
    {
     "name": "stdout",
     "output_type": "stream",
     "text": [
      "{1: 0, 2: 0, 4: 0, 5: 0, 6: 0, 8: 0, 9: 0, 10: 0, 11: 0, 12: 0, 13: 0, 15: 0, 16: 0, 17: 0, 18: 0, 19: 0, 20: 0, 21: 0, 22: 0, 23: 0, 24: 0, 25: 0, 26: 0, 27: 0, 28: 0, 29: 0, 30: 0, 31: 0, 32: 0, 33: 0, 34: 0, 35: 0, 36: 0, 37: 0, 38: 0, 39: 0, 40: 0, 41: 0, 42: 0, 44: 0, 45: 0, 46: 0, 47: 0, 48: 0, 49: 0, 50: 0, 51: 0, 53: 0, 54: 0, 55: 0, 56: 0}\n"
     ]
    }
   ],
   "source": [
    "    print(states_dict)"
   ]
  },
  {
   "cell_type": "code",
   "execution_count": 16,
   "metadata": {},
   "outputs": [
    {
     "name": "stdout",
     "output_type": "stream",
     "text": [
      "{1: 'Alabama', 2: 'Alaska', 4: 'Arizona', 5: 'Arkansas', 6: 'California', 8: 'Colorado', 9: 'Connecticut', 10: 'Delaware', 11: 'DC', 12: 'Florida', 13: 'Georgia', 15: 'Hawaii', 16: 'Idaho', 17: 'Illinois', 18: 'Indiana', 19: 'Iowa', 20: 'Kansas', 21: 'Kentucky', 22: 'Louisiana', 23: 'Maine', 24: 'Maryland', 25: 'Massachusetts', 26: 'Michigan', 27: 'Minnesota', 28: 'Mississippi', 29: 'Missouri', 30: 'Montana', 31: 'Nebraska', 32: 'Nevada', 33: 'New Hampshire', 34: 'New Jersey', 35: 'New Mexico', 36: 'New York', 37: 'North Carolina', 38: 'North Dakota', 39: 'Ohio', 40: 'Oklahoma', 41: 'Oregon', 42: 'Pennsylvania', 44: 'Rhode Island', 45: 'South Carolina', 46: 'South Dakota', 47: 'Tennessee', 48: 'Texas', 49: 'Utah', 50: 'Vermont', 51: 'Virginia', 53: 'Washington', 54: 'West Virginia', 55: 'Wisconsin', 56: 'Wyoming'}\n",
      "53\n"
     ]
    }
   ],
   "source": [
    "for key in states_dict:\n",
    "    for i in range(0, len(states.code)):\n",
    "        if key == states['code'][i]:\n",
    "            states_dict[key] = states['state'][i]\n",
    "            break\n",
    "print(states_dict)\n",
    "print(len(states.code))"
   ]
  },
  {
   "cell_type": "code",
   "execution_count": 17,
   "metadata": {},
   "outputs": [
    {
     "name": "stdout",
     "output_type": "stream",
     "text": [
      "   STATE  ST_CASE  VE_TOTAL  VE_FORMS  PVH_INVL  PEDS  PERNOTMVIT  PERMVIT  \\\n",
      "0      1    10001         1         1         0     0           0        1   \n",
      "1      1    10002         1         1         0     0           0        2   \n",
      "2      1    10003         2         1         1     0           1        1   \n",
      "3      1    10004         1         1         0     0           0        1   \n",
      "4      1    10005         1         1         0     0           0        1   \n",
      "\n",
      "   PERSONS  COUNTY   ...     ARR_HOUR  ARR_MIN  HOSP_HR  HOSP_MN  CF1  CF2  \\\n",
      "0        1      73   ...            9       36       88       88    0    0   \n",
      "1        2      73   ...           20        5       99       99    0    0   \n",
      "2        2      73   ...            2       31       88       88    0    0   \n",
      "3        1      73   ...           21       57       99       99    0    0   \n",
      "4        1      73   ...           20       10       88       88    0    0   \n",
      "\n",
      "   CF3  FATALS  DRUNK_DR  ST_NAME  \n",
      "0    0       1         1           \n",
      "1    0       1         1           \n",
      "2    0       1         0           \n",
      "3    0       1         1           \n",
      "4    0       1         0           \n",
      "\n",
      "[5 rows x 53 columns]\n"
     ]
    }
   ],
   "source": [
    "table['ST_NAME'] = ''\n",
    "print(table.head())"
   ]
  },
  {
   "cell_type": "code",
   "execution_count": 18,
   "metadata": {},
   "outputs": [
    {
     "name": "stderr",
     "output_type": "stream",
     "text": [
      "C:\\Users\\fergu\\Anaconda3\\lib\\site-packages\\ipykernel_launcher.py:4: SettingWithCopyWarning: \n",
      "A value is trying to be set on a copy of a slice from a DataFrame\n",
      "\n",
      "See the caveats in the documentation: http://pandas.pydata.org/pandas-docs/stable/indexing.html#indexing-view-versus-copy\n",
      "  after removing the cwd from sys.path.\n"
     ]
    }
   ],
   "source": [
    "for key in states_dict:\n",
    "    for i in range(0, len(table['STATE']) - 1):\n",
    "        if table['STATE'][i] == key:\n",
    "            table['ST_NAME'][i] = states_dict[key]"
   ]
  },
  {
   "cell_type": "code",
   "execution_count": 19,
   "metadata": {},
   "outputs": [
    {
     "name": "stdout",
     "output_type": "stream",
     "text": [
      "   STATE  ST_CASE  VE_TOTAL  VE_FORMS  PVH_INVL  PEDS  PERNOTMVIT  PERMVIT  \\\n",
      "0      1    10001         1         1         0     0           0        1   \n",
      "1      1    10002         1         1         0     0           0        2   \n",
      "2      1    10003         2         1         1     0           1        1   \n",
      "3      1    10004         1         1         0     0           0        1   \n",
      "4      1    10005         1         1         0     0           0        1   \n",
      "\n",
      "   PERSONS  COUNTY   ...     ARR_HOUR  ARR_MIN  HOSP_HR  HOSP_MN  CF1  CF2  \\\n",
      "0        1      73   ...            9       36       88       88    0    0   \n",
      "1        2      73   ...           20        5       99       99    0    0   \n",
      "2        2      73   ...            2       31       88       88    0    0   \n",
      "3        1      73   ...           21       57       99       99    0    0   \n",
      "4        1      73   ...           20       10       88       88    0    0   \n",
      "\n",
      "   CF3  FATALS  DRUNK_DR  ST_NAME  \n",
      "0    0       1         1  Alabama  \n",
      "1    0       1         1  Alabama  \n",
      "2    0       1         0  Alabama  \n",
      "3    0       1         1  Alabama  \n",
      "4    0       1         0  Alabama  \n",
      "\n",
      "[5 rows x 53 columns]\n"
     ]
    }
   ],
   "source": [
    "print(table.head())"
   ]
  },
  {
   "cell_type": "code",
   "execution_count": 20,
   "metadata": {
    "collapsed": true
   },
   "outputs": [],
   "source": [
    "table['TOTAL'] = 1"
   ]
  },
  {
   "cell_type": "code",
   "execution_count": 21,
   "metadata": {
    "collapsed": true
   },
   "outputs": [],
   "source": [
    "state_codes = ['AL', 'AK', 'AZ', 'AR', 'CA', 'CO', 'CT', 'DE', 'DC', 'FL', 'GA', 'HI', 'ID', 'IL', 'IN', 'IA', 'KS', 'KY', 'LA', 'ME', 'MD', 'MA', 'MI', 'MN', 'MS', 'MO', 'MT', 'NE', 'NV', 'NH', 'NJ', 'NM', 'NY', 'NC', 'ND', 'OH', 'OK', 'OR', 'PA', 'RI', 'SC', 'SD', 'TN', 'TX', 'UT', 'VE', 'VA', 'WA', 'WV', 'WI', 'WY']"
   ]
  },
  {
   "cell_type": "code",
   "execution_count": 22,
   "metadata": {},
   "outputs": [
    {
     "name": "stdout",
     "output_type": "stream",
     "text": [
      "{0: 'AL', 1: 'AK', 2: 'AZ', 3: 'AR', 4: 'CA', 5: 'CO', 6: 'CT', 7: 'DE', 8: 'DC', 9: 'FL', 10: 'GA', 11: 'HI', 12: 'ID', 13: 'IL', 14: 'IN', 15: 'IA', 16: 'KS', 17: 'KY', 18: 'LA', 19: 'ME', 20: 'MD', 21: 'MA', 22: 'MI', 23: 'MN', 24: 'MS', 25: 'MO', 26: 'MT', 27: 'NE', 28: 'NV', 29: 'NH', 30: 'NJ', 31: 'NM', 32: 'NY', 33: 'NC', 34: 'ND', 35: 'OH', 36: 'OK', 37: 'OR', 38: 'PA', 39: 'RI', 40: 'SC', 41: 'SD', 42: 'TN', 43: 'TX', 44: 'UT', 45: 'VE', 46: 'VA', 47: 'WA', 48: 'WV', 49: 'WI', 50: 'WY'}\n",
      "{1: 'Alabama', 2: 'Alaska', 4: 'Arizona', 5: 'Arkansas', 6: 'California', 8: 'Colorado', 9: 'Connecticut', 10: 'Delaware', 11: 'DC', 12: 'Florida', 13: 'Georgia', 15: 'Hawaii', 16: 'Idaho', 17: 'Illinois', 18: 'Indiana', 19: 'Iowa', 20: 'Kansas', 21: 'Kentucky', 22: 'Louisiana', 23: 'Maine', 24: 'Maryland', 25: 'Massachusetts', 26: 'Michigan', 27: 'Minnesota', 28: 'Mississippi', 29: 'Missouri', 30: 'Montana', 31: 'Nebraska', 32: 'Nevada', 33: 'New Hampshire', 34: 'New Jersey', 35: 'New Mexico', 36: 'New York', 37: 'North Carolina', 38: 'North Dakota', 39: 'Ohio', 40: 'Oklahoma', 41: 'Oregon', 42: 'Pennsylvania', 44: 'Rhode Island', 45: 'South Carolina', 46: 'South Dakota', 47: 'Tennessee', 48: 'Texas', 49: 'Utah', 50: 'Vermont', 51: 'Virginia', 53: 'Washington', 54: 'West Virginia', 55: 'Wisconsin', 56: 'Wyoming'}\n",
      "AL\n"
     ]
    }
   ],
   "source": [
    "states_dict2 = {}\n",
    "for i in range (0, len(state_codes)):\n",
    "    states_dict2[i] = state_codes[i]\n",
    "print(states_dict2)\n",
    "print(states_dict)\n",
    "\n",
    "print(states_dict2[0])\n",
    "\n",
    "#test_dict= dict((states_dict2[key], value) for (key, value) in states_dict.items())\n",
    "#print(test_dict)\n",
    "#for key in states_dict2:\n",
    " #   states_dict2[states_dict[key]] = states_dict.pop"
   ]
  },
  {
   "cell_type": "code",
   "execution_count": 23,
   "metadata": {},
   "outputs": [
    {
     "name": "stdout",
     "output_type": "stream",
     "text": [
      "51\n",
      "51\n"
     ]
    }
   ],
   "source": [
    "print(len(states_dict))\n",
    "print(len(states_dict2))"
   ]
  },
  {
   "cell_type": "code",
   "execution_count": 24,
   "metadata": {},
   "outputs": [
    {
     "name": "stdout",
     "output_type": "stream",
     "text": [
      "{'Alabama': 'AL', 'Alaska': 'AK', 'Arizona': 'AZ', 'Arkansas': 'AR', 'California': 'CA', 'Colorado': 'CO', 'Connecticut': 'CT', 'Delaware': 'DE', 'DC': 'DC', 'Florida': 'FL', 'Georgia': 'GA', 'Hawaii': 'HI', 'Idaho': 'ID', 'Illinois': 'IL', 'Indiana': 'IN', 'Iowa': 'IA', 'Kansas': 'KS', 'Kentucky': 'KY', 'Louisiana': 'LA', 'Maine': 'ME', 'Maryland': 'MD', 'Massachusetts': 'MA', 'Michigan': 'MI', 'Minnesota': 'MN', 'Mississippi': 'MS', 'Missouri': 'MO', 'Montana': 'MT', 'Nebraska': 'NE', 'Nevada': 'NV', 'New Hampshire': 'NH', 'New Jersey': 'NJ', 'New Mexico': 'NM', 'New York': 'NY', 'North Carolina': 'NC', 'North Dakota': 'ND', 'Ohio': 'OH', 'Oklahoma': 'OK', 'Oregon': 'OR', 'Pennsylvania': 'PA', 'Rhode Island': 'RI', 'South Carolina': 'SC', 'South Dakota': 'SD', 'Tennessee': 'TN', 'Texas': 'TX', 'Utah': 'UT', 'Vermont': 'VE', 'Virginia': 'VA', 'Washington': 'WA', 'West Virginia': 'WV', 'Wisconsin': 'WI', 'Wyoming': 'WY'}\n"
     ]
    }
   ],
   "source": [
    "def change_keys(dict1, dict2):\n",
    "    list1 = []\n",
    "    list2 = []\n",
    "    dict_final = {}\n",
    "    for key in dict1:\n",
    "        list1.append(dict1[key])\n",
    "    for key in dict2:\n",
    "        list2.append(dict2[key])\n",
    "    for i in range(0, len(list1)):\n",
    "        dict_final[str(list1[i])] = str(list2[i])\n",
    "#       dict_final[str([list1][i])] = str(list2[i])\n",
    "    return dict_final\n",
    "\n",
    "dict_final = change_keys(states_dict, states_dict2)\n",
    "print(dict_final)"
   ]
  },
  {
   "cell_type": "code",
   "execution_count": 25,
   "metadata": {},
   "outputs": [
    {
     "name": "stderr",
     "output_type": "stream",
     "text": [
      "C:\\Users\\fergu\\Anaconda3\\lib\\site-packages\\ipykernel_launcher.py:5: SettingWithCopyWarning: \n",
      "A value is trying to be set on a copy of a slice from a DataFrame\n",
      "\n",
      "See the caveats in the documentation: http://pandas.pydata.org/pandas-docs/stable/indexing.html#indexing-view-versus-copy\n",
      "  \"\"\"\n"
     ]
    }
   ],
   "source": [
    "table['CODE'] = ''\n",
    "for i in range(0, len(table['ST_NAME']) - 1):\n",
    "    for key in dict_final:\n",
    "        if table['ST_NAME'][i] == key:\n",
    "            table['CODE'][i] = dict_final[key]"
   ]
  },
  {
   "cell_type": "code",
   "execution_count": 26,
   "metadata": {},
   "outputs": [
    {
     "name": "stdout",
     "output_type": "stream",
     "text": [
      "   STATE  ST_CASE  VE_TOTAL  VE_FORMS  PVH_INVL  PEDS  PERNOTMVIT  PERMVIT  \\\n",
      "0      1    10001         1         1         0     0           0        1   \n",
      "1      1    10002         1         1         0     0           0        2   \n",
      "2      1    10003         2         1         1     0           1        1   \n",
      "3      1    10004         1         1         0     0           0        1   \n",
      "4      1    10005         1         1         0     0           0        1   \n",
      "\n",
      "   PERSONS  COUNTY  ...   HOSP_HR  HOSP_MN  CF1  CF2  CF3  FATALS  DRUNK_DR  \\\n",
      "0        1      73  ...        88       88    0    0    0       1         1   \n",
      "1        2      73  ...        99       99    0    0    0       1         1   \n",
      "2        2      73  ...        88       88    0    0    0       1         0   \n",
      "3        1      73  ...        99       99    0    0    0       1         1   \n",
      "4        1      73  ...        88       88    0    0    0       1         0   \n",
      "\n",
      "   ST_NAME  TOTAL  CODE  \n",
      "0  Alabama      1    AL  \n",
      "1  Alabama      1    AL  \n",
      "2  Alabama      1    AL  \n",
      "3  Alabama      1    AL  \n",
      "4  Alabama      1    AL  \n",
      "\n",
      "[5 rows x 55 columns]\n"
     ]
    }
   ],
   "source": [
    "print(table.head())"
   ]
  },
  {
   "cell_type": "code",
   "execution_count": 27,
   "metadata": {
    "collapsed": true
   },
   "outputs": [],
   "source": [
    "test = table.groupby(['CODE'])"
   ]
  },
  {
   "cell_type": "code",
   "execution_count": 28,
   "metadata": {
    "scrolled": true
   },
   "outputs": [
    {
     "name": "stdout",
     "output_type": "stream",
     "text": [
      "       STATE     ST_CASE  VE_TOTAL  VE_FORMS  PVH_INVL  PEDS  PERNOTMVIT  \\\n",
      "CODE                                                                       \n",
      "          56      560100         2         2         0     0           0   \n",
      "AK       156     1563081       110       109         1    13          14   \n",
      "AL       937     9811960      1393      1357        36   128         141   \n",
      "AR      2440    24521866       758       752         6    50          50   \n",
      "AZ      3460    34980477      1345      1326        19   242         250   \n",
      "CA     20142   207141537      5315      5072       243  1136        1209   \n",
      "CO      4464    44796209       901       884        17   103         107   \n",
      "CT      2529    25330015       447       433        14    70          77   \n",
      "DC       286     2860351        43        38         5     9           9   \n",
      "DE      1160    11606786       183       171        12    29          33   \n",
      "FL     35196   356545622      4673      4597        76   850         866   \n",
      "GA     18486   185879865      2197      2162        35   283         295   \n",
      "HI      1635    16356252       156       155         1    35          35   \n",
      "IA      6764    67703988       564       546        18    35          38   \n",
      "ID      3712    37147205       326       325         1    28          29   \n",
      "IL     17051   171044520      1618      1569        49   185         191   \n",
      "IN     13824   138548939      1222      1197        25   116         131   \n",
      "KS      7620    76273548       564       559         5    47          47   \n",
      "KY     16023   160522774      1204      1177        27   105         108   \n",
      "LA     15488   155134991      1103      1084        19   166         173   \n",
      "MA      8975    89815579       522       501        21   105         113   \n",
      "MD     11328   113393714       778       746        32   132         133   \n",
      "ME      3473    34741770       208       206         2    22          23   \n",
      "MI     25480   255290780      1569      1536        33   214         232   \n",
      "MN      9639    96456742       577       571         6    69          73   \n",
      "MO     25172   252109993      1316      1294        22   113         121   \n",
      "MS     17584   176041279       934       923        11    67          68   \n",
      "MT      5130    51314706       215       213         2    15          15   \n",
      "NC     49876   499675900      2052      2023        29   243         244   \n",
      "ND      3876    38765253       139       139         0    18          18   \n",
      "NE      6014    60159090       308       304         4    13          13   \n",
      "NH      4290    42908515       175       174         1    21          21   \n",
      "NJ     19346   193623638       867       833        34   187         191   \n",
      "NM     12530   125364535       513       506         7    81          81   \n",
      "NV      9696    97006223       474       465         9    92          95   \n",
      "NY     34740   347868334      1471      1372        99   392         409   \n",
      "OH     41067   411251540      1682      1640        42   180         192   \n",
      "OK     24960   249796233       958       934        24   100         104   \n",
      "OR     18286   182960078       670       665         5    92          93   \n",
      "PA     45696   457554627      1768      1698        70   212         225   \n",
      "RI      2112    21121176        69        66         3    16          17   \n",
      "SC     42120   421638896      1431      1402        29   183         184   \n",
      "SD      4738    47385356       140       139         1     7           7   \n",
      "TN     45402   454499547      1493      1467        26   115         120   \n",
      "TX    163536  1641346248      5468      5297       171   800         858   \n",
      "UT     12691   126944893       411       402         9    45          48   \n",
      "VA     36822   368483993      1058      1046        12   144         147   \n",
      "VE      2850    28501653        79        77         2     6           6   \n",
      "WA     26712   267253046       792       765        27   113         123   \n",
      "WI     29920   299349663       813       799        14    67          68   \n",
      "WV     13500   135031911       368       363         5    29          29   \n",
      "WY      5544    55444950       156       150         6     7          10   \n",
      "\n",
      "      PERMVIT  PERSONS  COUNTY  ...    ARR_HOUR  ARR_MIN  HOSP_HR  HOSP_MN  \\\n",
      "CODE                            ...                                          \n",
      "            4        4      21  ...          13       51       15        4   \n",
      "AK        181      182    9746  ...        2413     3494     4028     4745   \n",
      "AL       2050     2063   67309  ...       17563    31832    68304    71560   \n",
      "AR       1107     1107   38042  ...       12397    18447    46178    46178   \n",
      "AZ       2108     2116   13060  ...       32156    42050    51187    57351   \n",
      "CA       7590     7663  190073  ...      330570   330909   316716   316787   \n",
      "CO       1327     1331   29934  ...       28302    33139    38755    41264   \n",
      "CT        624      631    1743  ...        8969    12950    14833    17061   \n",
      "DC         56       56      26  ...         968     1339     2264     2289   \n",
      "DE        254      258     356  ...        2679     4382     5303     6705   \n",
      "FL       6759     6775  207294  ...      287161   287913   279537   279568   \n",
      "GA       3216     3228  194184  ...       79577    91450    85271    94767   \n",
      "HI        216      216     419  ...        2037     3588     4414     5620   \n",
      "IA        829      832   37540  ...       20745    23587    22487    24787   \n",
      "ID        516      517    9012  ...        3614     7219    22055    22055   \n",
      "IL       2254     2260   90537  ...       97942    98174    96501    96513   \n",
      "IN       1754     1769   68336  ...       76010    75913    74305    74205   \n",
      "KS        794      794   46317  ...        7614    13395    17672    20930   \n",
      "KY       1786     1789   92801  ...       17232    28326    34953    41219   \n",
      "LA       1614     1621   43208  ...       16120    26487    33445    39677   \n",
      "MA        704      712    5681  ...       17879    21239    22970    25795   \n",
      "MD       1046     1047   29391  ...       46695    46695    45144    45144   \n",
      "ME        303      304    2373  ...        2668     4980     6695     7978   \n",
      "MI       2266     2284  101416  ...       52056    60948    93434    93433   \n",
      "MN        809      813   28441  ...        7301    12650    17223    20154   \n",
      "MO       1905     1913  120571  ...       41541    49454    46775    53741   \n",
      "MS       1384     1385   50196  ...       42456    46121    46930    49369   \n",
      "MT        339      339    9105  ...        3100     5943     8876    10284   \n",
      "NC       2924     2925  139448  ...       39065    57521    77990    87188   \n",
      "ND        211      211    5390  ...        3080     4448     5394     6321   \n",
      "NE        431      431   16818  ...        9295    11198    10854    12101   \n",
      "NH        242      242    1414  ...        1843     3986     5064     6123   \n",
      "NJ       1228     1232   10515  ...       34437    38628    40781    43170   \n",
      "NM        890      890    8492  ...        8797    13659    18769    21687   \n",
      "NV        712      715    6310  ...       14603    17832    18080    19819   \n",
      "NY       1967     1984   61423  ...       40754    51234    60887    66872   \n",
      "OH       2414     2426   88261  ...       15996    33762    39800    51488   \n",
      "OK       1397     1401   54090  ...       21877    29761    32997    38159   \n",
      "OR        985      986   16380  ...       12006    18517    32523    34165   \n",
      "PA       2438     2451   69298  ...       49886    60990    69237    75516   \n",
      "RI         92       93     316  ...         572     1384     1376     2069   \n",
      "SC       2015     2016   44008  ...       88957    88957    88946    88946   \n",
      "SD        222      222    8289  ...        3916     5084     6205     6862   \n",
      "TN       2172     2177   97444  ...       60166    66304    73323    77062   \n",
      "TX       8112     8170  787535  ...      225189   246735   214727   235686   \n",
      "UT        673      676    8707  ...        6526    10286    16801    17929   \n",
      "VA       1446     1449  158786  ...       36848    43673    47492    50998   \n",
      "VE        109      109     839  ...        1183     1992     3133     3519   \n",
      "WA       1137     1147   21512  ...       49688    49347    47443    47261   \n",
      "WI       1222     1223   40348  ...       26768    32175    41422    43404   \n",
      "WV        523      523   12596  ...       15710    17390    18227    19072   \n",
      "WY        255      258    2267  ...        1834     3483     4566     5527   \n",
      "\n",
      "        CF1    CF2    CF3  FATALS  DRUNK_DR  TOTAL  \n",
      "CODE                                                \n",
      "          0      0      0       1         0      1  \n",
      "AK      440    319    297      84        36     78  \n",
      "AL     1153     74     37    1038       140    937  \n",
      "AR      518     14      0     545       120    488  \n",
      "AZ     1203    195     29     962       207    865  \n",
      "CA     5905    872     34    3623       812   3357  \n",
      "CO      852     19      0     608       194    558  \n",
      "CT      744    518    495     293        89    281  \n",
      "DC     1017    925    891      27        10     26  \n",
      "DE      383    153     99     119        39    116  \n",
      "FL     1514    130      0    3174       642   2933  \n",
      "GA     1306    145     99    1554       315   1422  \n",
      "HI       76      0      0     120        28    109  \n",
      "IA      353      0      0     404        93    356  \n",
      "ID      237     39      0     253        67    232  \n",
      "IL     1329    159     69    1082       271   1003  \n",
      "IN      725     55     46     821       138    768  \n",
      "KS      285     33     23     429        79    381  \n",
      "KY      932    118     99     834       193    763  \n",
      "LA     1246    322    149     757       220    704  \n",
      "MA     1637   1287   1287     389       105    359  \n",
      "MD      683    178    114     505       119    472  \n",
      "ME        0      0      0     161        47    151  \n",
      "MI    15163  12775  12573    1064       256    980  \n",
      "MN      374     99     99     392        99    357  \n",
      "MO      477     53      0     945       248    868  \n",
      "MS      345     99     99     690       104    628  \n",
      "MT       46      0      0     190        83    171  \n",
      "NC      830     57      0    1450       390   1348  \n",
      "ND      107      0      0     113        50    102  \n",
      "NE       63      0      0     218        78    194  \n",
      "NH      116     34      0     136        39    130  \n",
      "NJ      552     54     14     601       127    569  \n",
      "NM      189     50      0     402       108    358  \n",
      "NV      518      0      0     328        97    303  \n",
      "NY      665      0      0    1025       169    965  \n",
      "OH     1123    202     99    1132       366   1053  \n",
      "OK      920    162      0     683       177    624  \n",
      "OR      191     46      0     495       122    446  \n",
      "PA     1147    132     14    1188       263   1088  \n",
      "RI       50      0      0      51        18     48  \n",
      "SC      497     15      0    1015       336    936  \n",
      "SD        0      0      0     116        44    103  \n",
      "TN      974    115      0    1041       222    966  \n",
      "TX     5048    619    174    3776       873   3407  \n",
      "UT      166     23      0     281        52    259  \n",
      "VA      610     65      0     760       216    722  \n",
      "VE       52      0      0      62        27     57  \n",
      "WA      427      0      0     537       162    504  \n",
      "WI      643    210    125     607       181    544  \n",
      "WV      280      0      0     269        69    250  \n",
      "WY      112      0      0     111        29     99  \n",
      "\n",
      "[52 rows x 50 columns]\n"
     ]
    }
   ],
   "source": [
    "test_bar = test.agg('sum')\n",
    "print(test_bar)"
   ]
  },
  {
   "cell_type": "code",
   "execution_count": 29,
   "metadata": {},
   "outputs": [
    {
     "name": "stdout",
     "output_type": "stream",
     "text": [
      "  CODE  STATE   ST_CASE  VE_TOTAL  VE_FORMS  PVH_INVL  PEDS  PERNOTMVIT  \\\n",
      "0          56    560100         2         2         0     0           0   \n",
      "1   AK    156   1563081       110       109         1    13          14   \n",
      "2   AL    937   9811960      1393      1357        36   128         141   \n",
      "3   AR   2440  24521866       758       752         6    50          50   \n",
      "4   AZ   3460  34980477      1345      1326        19   242         250   \n",
      "\n",
      "   PERMVIT  PERSONS  ...    ARR_HOUR  ARR_MIN  HOSP_HR  HOSP_MN   CF1  CF2  \\\n",
      "0        4        4  ...          13       51       15        4     0    0   \n",
      "1      181      182  ...        2413     3494     4028     4745   440  319   \n",
      "2     2050     2063  ...       17563    31832    68304    71560  1153   74   \n",
      "3     1107     1107  ...       12397    18447    46178    46178   518   14   \n",
      "4     2108     2116  ...       32156    42050    51187    57351  1203  195   \n",
      "\n",
      "   CF3  FATALS  DRUNK_DR  TOTAL  \n",
      "0    0       1         0      1  \n",
      "1  297      84        36     78  \n",
      "2   37    1038       140    937  \n",
      "3    0     545       120    488  \n",
      "4   29     962       207    865  \n",
      "\n",
      "[5 rows x 51 columns]\n"
     ]
    }
   ],
   "source": [
    "test_bar2 = test_bar.reset_index()\n",
    "print(test_bar2.head())"
   ]
  },
  {
   "cell_type": "code",
   "execution_count": 32,
   "metadata": {},
   "outputs": [
    {
     "data": {
      "image/png": "[encoded data removed]",
      "text/plain": [
       "<matplotlib.figure.Figure at 0x211bf4b2630>"
      ]
     },
     "metadata": {},
     "output_type": "display_data"
    }
   ],
   "source": [
    "x = np.arange(len(test_bar2['CODE']))\n",
    "y = test_bar2['TOTAL']\n",
    "width = 0.6\n",
    "#len(test_bar2['STATE'])\n",
    "plt.bar(x, y, width)\n",
    "plt.xticks(x, test_bar2['CODE'])\n",
    "plt.ylabel(\"Number of Fatal Accidents\")\n",
    "plt.title(\"2016 Fatal Traffic Accidents by State\")\n",
    "plt.rcParams['figure.figsize'] = [20, 8]\n",
    "plt.show()"
   ]
  },
  {
   "cell_type": "code",
   "execution_count": null,
   "metadata": {
    "collapsed": true
   },
   "outputs": [],
   "source": []
  }
 ],
 "metadata": {
  "kernelspec": {
   "display_name": "Python 3",
   "language": "python",
   "name": "python3"
  },
  "language_info": {
   "codemirror_mode": {
    "name": "ipython",
    "version": 3
   },
   "file_extension": ".py",
   "mimetype": "text/x-python",
   "name": "python",
   "nbconvert_exporter": "python",
   "pygments_lexer": "ipython3",
   "version": "3.6.2"
  }
 },
 "nbformat": 4,
 "nbformat_minor": 2
}
